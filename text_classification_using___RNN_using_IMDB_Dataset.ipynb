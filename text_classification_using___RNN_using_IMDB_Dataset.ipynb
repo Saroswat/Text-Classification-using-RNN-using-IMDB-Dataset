{
  "cells": [
    {
      "cell_type": "markdown",
      "metadata": {
        "id": "lUWearf0Gw-p"
      },
      "source": [
        "This text classification tutorial trains a recurrent neural network on the IMDB large movie review dataset (http://ai.stanford.edu/~amaas/data/sentiment/) for sentiment analysis."
      ]
    },
    {
      "cell_type": "markdown",
      "metadata": {
        "id": "_2VQo4bajwUU"
      },
      "source": [
        "## Setup"
      ]
    },
    {
      "cell_type": "code",
      "execution_count": null,
      "metadata": {
        "id": "z682XYsrjkY9"
      },
      "outputs": [],
      "source": [
        "import numpy as np\n",
        "\n",
        "import tensorflow_datasets as tfds\n",
        "import tensorflow as tf\n",
        "\n",
        "tfds.disable_progress_bar()"
      ]
    },
    {
      "cell_type": "markdown",
      "metadata": {
        "id": "1rXHa-w9JZhb"
      },
      "source": [
        "Import `matplotlib` and create a helper function to plot graphs:"
      ]
    },
    {
      "cell_type": "code",
      "execution_count": null,
      "metadata": {
        "id": "Mp1Z7P9pYRSK"
      },
      "outputs": [],
      "source": [
        "import matplotlib.pyplot as plt\n",
        "\n",
        "\n",
        "def plot_graphs(history, metric):\n",
        "  plt.plot(history.history[metric])\n",
        "  plt.plot(history.history['val_'+metric], '')\n",
        "  plt.xlabel(\"Epochs\")\n",
        "  plt.ylabel(metric)\n",
        "  plt.legend([metric, 'val_'+metric])"
      ]
    },
    {
      "cell_type": "markdown",
      "metadata": {
        "id": "pRmMubr0jrE2"
      },
      "source": [
        "## Setup input pipeline\n",
        "\n",
        "\n",
        "The IMDB large movie review dataset is a *binary classification* dataset—all the reviews have either a *positive* or *negative* sentiment.\n",
        "\n",
        "Download the dataset using [TFDS](https://www.tensorflow.org/datasets).\n"
      ]
    },
    {
      "cell_type": "code",
      "execution_count": null,
      "metadata": {
        "colab": {
          "base_uri": "https://localhost:8080/"
        },
        "id": "SHRwRoP2nVHX",
        "outputId": "bb511a8f-bd4d-4ec5-9840-bc20c05bfb72"
      },
      "outputs": [
        {
          "output_type": "stream",
          "name": "stdout",
          "text": [
            "Downloading and preparing dataset 80.23 MiB (download: 80.23 MiB, generated: Unknown size, total: 80.23 MiB) to /root/tensorflow_datasets/imdb_reviews/plain_text/1.0.0...\n",
            "Dataset imdb_reviews downloaded and prepared to /root/tensorflow_datasets/imdb_reviews/plain_text/1.0.0. Subsequent calls will reuse this data.\n"
          ]
        },
        {
          "output_type": "execute_result",
          "data": {
            "text/plain": [
              "(TensorSpec(shape=(), dtype=tf.string, name=None),\n",
              " TensorSpec(shape=(), dtype=tf.int64, name=None))"
            ]
          },
          "metadata": {},
          "execution_count": 3
        }
      ],
      "source": [
        "dataset, info = tfds.load('imdb_reviews', with_info=True,\n",
        "                          as_supervised=True)\n",
        "train_dataset, test_dataset = dataset['train'], dataset['test']\n",
        "\n",
        "train_dataset.element_spec"
      ]
    },
    {
      "cell_type": "markdown",
      "metadata": {
        "id": "nWA4c2ir7g6p"
      },
      "source": [
        "Initially this returns a dataset of (text, label pairs):"
      ]
    },
    {
      "cell_type": "code",
      "execution_count": null,
      "metadata": {
        "colab": {
          "base_uri": "https://localhost:8080/"
        },
        "id": "vd4_BGKyurao",
        "outputId": "813f5e0c-2e38-409e-ded3-aaf2b60551c7"
      },
      "outputs": [
        {
          "output_type": "stream",
          "name": "stdout",
          "text": [
            "text:  b\"This was an absolutely terrible movie. Don't be lured in by Christopher Walken or Michael Ironside. Both are great actors, but this must simply be their worst role in history. Even their great acting could not redeem this movie's ridiculous storyline. This movie is an early nineties US propaganda piece. The most pathetic scenes were those when the Columbian rebels were making their cases for revolutions. Maria Conchita Alonso appeared phony, and her pseudo-love affair with Walken was nothing but a pathetic emotional plug in a movie that was devoid of any real meaning. I am disappointed that there are movies like this, ruining actor's like Christopher Walken's good name. I could barely sit through it.\"\n",
            "label:  0\n"
          ]
        }
      ],
      "source": [
        "for example, label in train_dataset.take(1):\n",
        "  print('text: ', example.numpy())\n",
        "  print('label: ', label.numpy())"
      ]
    },
    {
      "cell_type": "markdown",
      "metadata": {
        "id": "z2qVJzcEluH_"
      },
      "source": [
        "Next shuffle the data for training and create batches of these `(text, label)` pairs:"
      ]
    },
    {
      "cell_type": "code",
      "execution_count": null,
      "metadata": {
        "id": "dDsCaZCDYZgm"
      },
      "outputs": [],
      "source": [
        "BUFFER_SIZE = 10000\n",
        "BATCH_SIZE = 64"
      ]
    },
    {
      "cell_type": "code",
      "execution_count": null,
      "metadata": {
        "id": "VznrltNOnUc5"
      },
      "outputs": [],
      "source": [
        "train_dataset = train_dataset.shuffle(BUFFER_SIZE).batch(BATCH_SIZE).prefetch(tf.data.AUTOTUNE)\n",
        "test_dataset = test_dataset.batch(BATCH_SIZE).prefetch(tf.data.AUTOTUNE)"
      ]
    },
    {
      "cell_type": "code",
      "execution_count": null,
      "metadata": {
        "colab": {
          "base_uri": "https://localhost:8080/"
        },
        "id": "jqkvdcFv41wC",
        "outputId": "e5883269-510b-46cb-af44-18ac6af5732d"
      },
      "outputs": [
        {
          "output_type": "stream",
          "name": "stdout",
          "text": [
            "texts:  [b'This movie is one of the best ever produced by disney.<br /><br />The plot is very original and entertaining. The animated sequence is also very well done with the live actors. (For the time).<br /><br />Perhaps one of my favorite sequences is contained in this movie with the march of the suits of armor.'\n",
            " b'An excellent example of \"cowboy noir\", as it\\'s been called, in which unemployed Michael (Nicolas Cage) loses out on a job because he insists on being honest (he\\'s got a bum leg). With really nothing else he can do, he decides that for once he\\'s going to lie. When he walks into a bar, and the owner Wayne (the late, great J.T. Walsh) mistakes him for a hit-man whom Wayne has hired to do in his sexy young wife Suzanne (Lara Flynn Boyle in fine form), Michael plays along and accepts Waynes\\' money. *Then* he goes to Suzanne and informs her of her husbands\\' intentions, and accepts *her* money to get rid of Wayne! If that didn\\'t complicate things enough, the real hit-man, \"Lyle from Dallas\" (Dennis Hopper, in a perfect role for him) shows up and Michael is in even more trouble than before.<br /><br />\"Red Rock West\" gets a lot out of the locations. Director John Dahl, who co-wrote the script with his brother Rick, was smart in realizing the potential of a story set in a truly isolated small town that may have seen better days and in which the residents could be involved in any manner of schemes. It\\'s also an amusing idea of the kind of trouble an honest person could get into if they decided to abandon their principles and give in to any level of temptation. It\\'s an appreciably dark and twist-laden story with an assortment of main characters that are if not corrupt, have at least been morally compromised like Michael. The lighting by cinematographer Marc Reshovsky is superb in its moodiness; even the climax set in a graveyard lends a nice morbid quality to the whole thing. Even if the writing isn\\'t particularly \"logical or credible\", the film has a nice way of intriguing the viewer and just drawing them right in.<br /><br />Cage does a good job in the lead, but his co-stars have a grand old time sinking their teeth into their meaty and greed-motivated characters. Hopper, Boyle, and Walsh are all fun to watch in these parts. Timothy Carhart and Dan Shor are fine as Walshs\\' deputies (in one especially good twist, Walsh is also the local sheriff), and there\\'s an entertaining cameo role for country & western star Dwight Yoakam, who also graces the film with an enjoyable end credits tune.<br /><br />It\\'s quite a good little film worth checking out. It moves forward at an impressive pace, and if nothing else is certainly never boring.<br /><br />8/10'\n",
            " b'The original Boogeyman was a silly but entertaining supernatural slasher flick. It was by no means a great film but fun in the right frame of mind. The third instalment in this series, Return of the Boogeyman, on the other hand, is simply atrocious. It consists of two things. Firstly, cheap and lifeless new footage. Secondly, LOADS of recycled bits from the first movie. The new material is unbelievably amateurish but not in an amusingly inept way, simply incredibly tedious. This footage has clearly been knocked together quickly and without any effort. It serves as a framing device for the endless clips from the first (and possibly second) movies. And boy, do they milk those clips from the earlier films; sometimes reusing sequences over and over again. The only new addition to these parts is a voice over that pointlessly describes exactly what we can see with our own eyes. The whole experience of watching this is truly mind-numbing.<br /><br />Return of the Boogeyman is an example of the very worst kind of exploitation flick; the kind that exploits the audience in a highly cynical way. I want to keep this review brief and to the point because this film deserves no more. There is nothing here of value at all. This is worthless.']\n",
            "\n",
            "labels:  [1 1 0]\n"
          ]
        }
      ],
      "source": [
        "for example, label in train_dataset.take(1):\n",
        "  print('texts: ', example.numpy()[:3])\n",
        "  print()\n",
        "  print('labels: ', label.numpy()[:3])"
      ]
    },
    {
      "cell_type": "markdown",
      "metadata": {
        "id": "s5eWCo88voPY"
      },
      "source": [
        "## Create the text encoder"
      ]
    },
    {
      "cell_type": "markdown",
      "metadata": {
        "id": "TFevcItw15P_"
      },
      "source": [
        "The raw text loaded by `tfds` needs to be processed before it can be used in a model. The simplest way to process text for training is using the `TextVectorization` layer. This layer has many capabilities, but this tutorial sticks to the default behavior.\n",
        "\n",
        "Create the layer, and pass the dataset's text to the layer's `.adapt` method:"
      ]
    },
    {
      "cell_type": "code",
      "execution_count": null,
      "metadata": {
        "id": "uC25Lu1Yvuqy"
      },
      "outputs": [],
      "source": [
        "VOCAB_SIZE = 1000\n",
        "encoder = tf.keras.layers.TextVectorization(\n",
        "    max_tokens=VOCAB_SIZE)\n",
        "encoder.adapt(train_dataset.map(lambda text, label: text))"
      ]
    },
    {
      "cell_type": "markdown",
      "metadata": {
        "id": "IuQzVBbe3Ldu"
      },
      "source": [
        "The `.adapt` method sets the layer's vocabulary. Here are the first 20 tokens. After the padding and unknown tokens they're sorted by frequency:"
      ]
    },
    {
      "cell_type": "code",
      "execution_count": null,
      "metadata": {
        "colab": {
          "base_uri": "https://localhost:8080/"
        },
        "id": "tBoyjjWg0Ac9",
        "outputId": "b8c4edc2-e1b9-4949-f1be-90e0d6c6980b"
      },
      "outputs": [
        {
          "output_type": "execute_result",
          "data": {
            "text/plain": [
              "array(['', '[UNK]', 'the', 'and', 'a', 'of', 'to', 'is', 'in', 'it', 'i',\n",
              "       'this', 'that', 'br', 'was', 'as', 'for', 'with', 'movie', 'but'],\n",
              "      dtype='<U14')"
            ]
          },
          "metadata": {},
          "execution_count": 9
        }
      ],
      "source": [
        "vocab = np.array(encoder.get_vocabulary())\n",
        "vocab[:20]"
      ]
    },
    {
      "cell_type": "markdown",
      "metadata": {
        "id": "mjId5pua3jHQ"
      },
      "source": [
        "Once the vocabulary is set, the layer can encode text into indices. The tensors of indices are 0-padded to the longest sequence in the batch (unless you set a fixed `output_sequence_length`):"
      ]
    },
    {
      "cell_type": "code",
      "execution_count": null,
      "metadata": {
        "colab": {
          "base_uri": "https://localhost:8080/"
        },
        "id": "RGc7C9WiwRWs",
        "outputId": "c28bcdca-972f-4118-a40a-c9011a838a2b"
      },
      "outputs": [
        {
          "output_type": "execute_result",
          "data": {
            "text/plain": [
              "array([[ 11,  18,   7, ...,   0,   0,   0],\n",
              "       [ 34, 312, 454, ...,   0,   0,   0],\n",
              "       [  2, 198,   1, ...,   0,   0,   0]])"
            ]
          },
          "metadata": {},
          "execution_count": 10
        }
      ],
      "source": [
        "encoded_example = encoder(example)[:3].numpy()\n",
        "encoded_example"
      ]
    },
    {
      "cell_type": "markdown",
      "metadata": {
        "id": "F5cjz0bS39IN"
      },
      "source": [
        "With the default settings, the process is not completely reversible. There are three main reasons for that:\n",
        "\n",
        "1. The default value for `preprocessing.TextVectorization`'s `standardize` argument is `\"lower_and_strip_punctuation\"`.\n",
        "2. The limited vocabulary size and lack of character-based fallback results in some unknown tokens."
      ]
    },
    {
      "cell_type": "code",
      "execution_count": null,
      "metadata": {
        "colab": {
          "base_uri": "https://localhost:8080/"
        },
        "id": "N_tD0QY5wXaK",
        "outputId": "79fe9268-3552-4ab6-f8d7-9e38f36a7825"
      },
      "outputs": [
        {
          "output_type": "stream",
          "name": "stdout",
          "text": [
            "Original:  b'This movie is one of the best ever produced by disney.<br /><br />The plot is very original and entertaining. The animated sequence is also very well done with the live actors. (For the time).<br /><br />Perhaps one of my favorite sequences is contained in this movie with the march of the suits of armor.'\n",
            "Round-trip:  this movie is one of the best ever [UNK] by [UNK] br the plot is very original and entertaining the [UNK] sequence is also very well done with the live actors for the [UNK] br perhaps one of my favorite sequences is [UNK] in this movie with the [UNK] of the [UNK] of [UNK]                                                                                                                                                                                                                                                                                                                                                                                                                                                                                                                                                                                                                                                           \n",
            "\n",
            "Original:  b'An excellent example of \"cowboy noir\", as it\\'s been called, in which unemployed Michael (Nicolas Cage) loses out on a job because he insists on being honest (he\\'s got a bum leg). With really nothing else he can do, he decides that for once he\\'s going to lie. When he walks into a bar, and the owner Wayne (the late, great J.T. Walsh) mistakes him for a hit-man whom Wayne has hired to do in his sexy young wife Suzanne (Lara Flynn Boyle in fine form), Michael plays along and accepts Waynes\\' money. *Then* he goes to Suzanne and informs her of her husbands\\' intentions, and accepts *her* money to get rid of Wayne! If that didn\\'t complicate things enough, the real hit-man, \"Lyle from Dallas\" (Dennis Hopper, in a perfect role for him) shows up and Michael is in even more trouble than before.<br /><br />\"Red Rock West\" gets a lot out of the locations. Director John Dahl, who co-wrote the script with his brother Rick, was smart in realizing the potential of a story set in a truly isolated small town that may have seen better days and in which the residents could be involved in any manner of schemes. It\\'s also an amusing idea of the kind of trouble an honest person could get into if they decided to abandon their principles and give in to any level of temptation. It\\'s an appreciably dark and twist-laden story with an assortment of main characters that are if not corrupt, have at least been morally compromised like Michael. The lighting by cinematographer Marc Reshovsky is superb in its moodiness; even the climax set in a graveyard lends a nice morbid quality to the whole thing. Even if the writing isn\\'t particularly \"logical or credible\", the film has a nice way of intriguing the viewer and just drawing them right in.<br /><br />Cage does a good job in the lead, but his co-stars have a grand old time sinking their teeth into their meaty and greed-motivated characters. Hopper, Boyle, and Walsh are all fun to watch in these parts. Timothy Carhart and Dan Shor are fine as Walshs\\' deputies (in one especially good twist, Walsh is also the local sheriff), and there\\'s an entertaining cameo role for country & western star Dwight Yoakam, who also graces the film with an enjoyable end credits tune.<br /><br />It\\'s quite a good little film worth checking out. It moves forward at an impressive pace, and if nothing else is certainly never boring.<br /><br />8/10'\n",
            "Round-trip:  an excellent example of [UNK] [UNK] as its been called in which [UNK] michael [UNK] [UNK] [UNK] out on a job because he [UNK] on being [UNK] hes got a [UNK] [UNK] with really nothing else he can do he [UNK] that for once hes going to [UNK] when he [UNK] into a [UNK] and the [UNK] [UNK] the late great [UNK] [UNK] [UNK] him for a [UNK] whom [UNK] has [UNK] to do in his [UNK] young wife [UNK] [UNK] [UNK] [UNK] in fine form michael plays along and [UNK] [UNK] money then he goes to [UNK] and [UNK] her of her [UNK] [UNK] and [UNK] her money to get [UNK] of [UNK] if that didnt [UNK] things enough the real [UNK] [UNK] from [UNK] [UNK] [UNK] in a perfect role for him shows up and michael is in even more [UNK] than [UNK] br red rock [UNK] gets a lot out of the [UNK] director john [UNK] who [UNK] the script with his brother [UNK] was [UNK] in [UNK] the potential of a story set in a truly [UNK] small town that may have seen better days and in which the [UNK] could be involved in any [UNK] of [UNK] its also an [UNK] idea of the kind of [UNK] an [UNK] person could get into if they decided to [UNK] their [UNK] and give in to any level of [UNK] its an [UNK] dark and [UNK] story with an [UNK] of main characters that are if not [UNK] have at least been [UNK] [UNK] like michael the [UNK] by [UNK] [UNK] [UNK] is superb in its [UNK] even the [UNK] set in a [UNK] [UNK] a nice [UNK] quality to the whole thing even if the writing isnt particularly [UNK] or [UNK] the film has a nice way of [UNK] the viewer and just [UNK] them right [UNK] br [UNK] does a good job in the lead but his [UNK] have a [UNK] old time [UNK] their [UNK] into their [UNK] and [UNK] characters [UNK] [UNK] and [UNK] are all fun to watch in these parts [UNK] [UNK] and [UNK] [UNK] are fine as [UNK] [UNK] in one especially good twist [UNK] is also the local [UNK] and theres an entertaining [UNK] role for country [UNK] star [UNK] [UNK] who also [UNK] the film with an enjoyable end credits [UNK] br its quite a good little film worth [UNK] out it [UNK] forward at an [UNK] [UNK] and if nothing else is certainly never [UNK] br [UNK]                                                                                                                                                                                                                                                                             \n",
            "\n",
            "Original:  b'The original Boogeyman was a silly but entertaining supernatural slasher flick. It was by no means a great film but fun in the right frame of mind. The third instalment in this series, Return of the Boogeyman, on the other hand, is simply atrocious. It consists of two things. Firstly, cheap and lifeless new footage. Secondly, LOADS of recycled bits from the first movie. The new material is unbelievably amateurish but not in an amusingly inept way, simply incredibly tedious. This footage has clearly been knocked together quickly and without any effort. It serves as a framing device for the endless clips from the first (and possibly second) movies. And boy, do they milk those clips from the earlier films; sometimes reusing sequences over and over again. The only new addition to these parts is a voice over that pointlessly describes exactly what we can see with our own eyes. The whole experience of watching this is truly mind-numbing.<br /><br />Return of the Boogeyman is an example of the very worst kind of exploitation flick; the kind that exploits the audience in a highly cynical way. I want to keep this review brief and to the point because this film deserves no more. There is nothing here of value at all. This is worthless.'\n",
            "Round-trip:  the original [UNK] was a silly but entertaining [UNK] [UNK] flick it was by no means a great film but fun in the right [UNK] of mind the third [UNK] in this series return of the [UNK] on the other hand is simply [UNK] it [UNK] of two things [UNK] cheap and [UNK] new footage [UNK] [UNK] of [UNK] [UNK] from the first movie the new material is [UNK] [UNK] but not in an [UNK] [UNK] way simply incredibly [UNK] this footage has clearly been [UNK] together quickly and without any effort it [UNK] as a [UNK] [UNK] for the [UNK] [UNK] from the first and possibly second movies and boy do they [UNK] those [UNK] from the earlier films sometimes [UNK] sequences over and over again the only new [UNK] to these parts is a voice over that [UNK] [UNK] exactly what we can see with our own eyes the whole experience of watching this is truly [UNK] br return of the [UNK] is an example of the very worst kind of [UNK] flick the kind that [UNK] the audience in a highly [UNK] way i want to keep this review [UNK] and to the point because this film deserves no more there is nothing here of [UNK] at all this is [UNK]                                                                                                                                                                                                                                                                                                                                                                                                                                                                                           \n",
            "\n"
          ]
        }
      ],
      "source": [
        "for n in range(3):\n",
        "  print(\"Original: \", example[n].numpy())\n",
        "  print(\"Round-trip: \", \" \".join(vocab[encoded_example[n]]))\n",
        "  print()"
      ]
    },
    {
      "cell_type": "markdown",
      "metadata": {
        "id": "bjUqGVBxGw-t"
      },
      "source": [
        "## Create the model"
      ]
    },
    {
      "cell_type": "markdown",
      "metadata": {
        "id": "W7zsmInBOCPO"
      },
      "source": [
        "![A drawing of the information flow in the model](https://github.com/tensorflow/text/blob/master/docs/tutorials/images/bidirectional.png?raw=1)"
      ]
    },
    {
      "cell_type": "markdown",
      "metadata": {
        "id": "bgs6nnSTGw-t"
      },
      "source": [
        "Above is a diagram of the model.\n",
        "\n",
        "1. This model can be build as a `tf.keras.Sequential`.\n",
        "\n",
        "2. The first layer is the `encoder`, which converts the text to a sequence of token indices.\n",
        "\n",
        "3. After the encoder is an embedding layer. An embedding layer stores one vector per word. When called, it converts the sequences of word indices to sequences of vectors. These vectors are trainable. After training (on enough data), words with similar meanings often have similar vectors.\n",
        "\n",
        "  This index-lookup is much more efficient than the equivalent operation of passing a one-hot encoded vector through a `tf.keras.layers.Dense` layer.\n",
        "\n",
        "4. A recurrent neural network (RNN) processes sequence input by iterating through the elements. RNNs pass the outputs from one timestep to their input on the next timestep.\n",
        "\n",
        "  The `tf.keras.layers.Bidirectional` wrapper can also be used with an RNN layer. This propagates the input forward and backwards through the RNN layer and then concatenates the final output.\n",
        "\n",
        "  * The main advantage of a bidirectional RNN is that the signal from the beginning of the input doesn't need to be processed all the way through every timestep to affect the output.  \n",
        "\n",
        "  * The main disadvantage of a bidirectional RNN is that you can't efficiently stream predictions as words are being added to the end.\n",
        "\n",
        "5. After the RNN has converted the sequence to a single vector the two `layers.Dense` do some final processing, and convert from this vector representation to a single logit as the classification output.\n"
      ]
    },
    {
      "cell_type": "markdown",
      "metadata": {
        "id": "V4fodCI7soQi"
      },
      "source": [
        "The code to implement this is below:"
      ]
    },
    {
      "cell_type": "code",
      "execution_count": null,
      "metadata": {
        "id": "LwfoBkmRYcP3"
      },
      "outputs": [],
      "source": [
        "model = tf.keras.Sequential([\n",
        "    encoder,\n",
        "    tf.keras.layers.Embedding(\n",
        "        input_dim=len(encoder.get_vocabulary()),\n",
        "        output_dim=64,\n",
        "        # Use masking to handle the variable sequence lengths\n",
        "        mask_zero=True),\n",
        "    tf.keras.layers.Bidirectional(tf.keras.layers.LSTM(64)),\n",
        "    tf.keras.layers.Dense(64, activation='relu'),\n",
        "    tf.keras.layers.Dense(1)\n",
        "])"
      ]
    },
    {
      "cell_type": "markdown",
      "metadata": {
        "id": "QIGmIGkkouUb"
      },
      "source": [
        "Please note that Keras sequential model is used here since all the layers in the model only have single input and produce single output. In case you want to use stateful RNN layer, you might want to build your model with Keras functional API or model subclassing so that you can retrieve and reuse the RNN layer states. Please check [Keras RNN guide](https://www.tensorflow.org/guide/keras/rnn#rnn_state_reuse) for more details."
      ]
    },
    {
      "cell_type": "markdown",
      "metadata": {
        "id": "kF-PsCk1LwjY"
      },
      "source": [
        "The embedding layer [uses masking](https://www.tensorflow.org/guide/keras/masking_and_padding) to handle the varying sequence-lengths. All the layers after the `Embedding` support masking:"
      ]
    },
    {
      "cell_type": "code",
      "execution_count": null,
      "metadata": {
        "colab": {
          "base_uri": "https://localhost:8080/"
        },
        "id": "87a8-CwfKebw",
        "outputId": "0d810b88-0063-4433-fa4d-a2b703d85486"
      },
      "outputs": [
        {
          "output_type": "stream",
          "name": "stdout",
          "text": [
            "[False, True, True, True, True]\n"
          ]
        }
      ],
      "source": [
        "print([layer.supports_masking for layer in model.layers])"
      ]
    },
    {
      "cell_type": "markdown",
      "metadata": {
        "id": "ZlS0iaUIWLpI"
      },
      "source": [
        "To confirm that this works as expected, evaluate a sentence twice. First, alone so there's no padding to mask:"
      ]
    },
    {
      "cell_type": "code",
      "execution_count": null,
      "metadata": {
        "colab": {
          "base_uri": "https://localhost:8080/"
        },
        "id": "O41gw3KfWHus",
        "outputId": "044c06d0-fb0f-44db-ffc2-c06cafded122"
      },
      "outputs": [
        {
          "output_type": "stream",
          "name": "stdout",
          "text": [
            "1/1 [==============================] - 7s 7s/step\n",
            "[-0.00023288]\n"
          ]
        }
      ],
      "source": [
        "# predict on a sample text without padding.\n",
        "\n",
        "sample_text = ('The movie was cool. The animation and the graphics '\n",
        "               'were out of this world. I would recommend this movie.')\n",
        "predictions = model.predict(np.array([sample_text]))\n",
        "print(predictions[0])"
      ]
    },
    {
      "cell_type": "markdown",
      "metadata": {
        "id": "K0VQmGnEWcuz"
      },
      "source": [
        "Now, evaluate it again in a batch with a longer sentence. The result should be identical:"
      ]
    },
    {
      "cell_type": "code",
      "execution_count": null,
      "metadata": {
        "colab": {
          "base_uri": "https://localhost:8080/"
        },
        "id": "UIgpuTeFNDzq",
        "outputId": "84309170-ce0f-4a08-de25-e6b514e3ce77"
      },
      "outputs": [
        {
          "output_type": "stream",
          "name": "stdout",
          "text": [
            "1/1 [==============================] - 0s 64ms/step\n",
            "[-0.00023288]\n"
          ]
        }
      ],
      "source": [
        "# predict on a sample text with padding\n",
        "\n",
        "padding = \"the \" * 2000\n",
        "predictions = model.predict(np.array([sample_text, padding]))\n",
        "print(predictions[0])"
      ]
    },
    {
      "cell_type": "markdown",
      "metadata": {
        "id": "sRI776ZcH3Tf"
      },
      "source": [
        "Compile the Keras model to configure the training process:"
      ]
    },
    {
      "cell_type": "code",
      "execution_count": null,
      "metadata": {
        "id": "kj2xei41YZjC"
      },
      "outputs": [],
      "source": [
        "model.compile(loss=tf.keras.losses.BinaryCrossentropy(from_logits=True),\n",
        "              optimizer=tf.keras.optimizers.Adam(1e-4),\n",
        "              metrics=['accuracy'])"
      ]
    },
    {
      "cell_type": "markdown",
      "metadata": {
        "id": "zIwH3nto596k"
      },
      "source": [
        "## Train the model"
      ]
    },
    {
      "cell_type": "code",
      "execution_count": null,
      "metadata": {
        "colab": {
          "base_uri": "https://localhost:8080/"
        },
        "id": "hw86wWS4YgR2",
        "outputId": "3c14cbdf-4ef2-480d-dd21-f0dd03a6e8a2"
      },
      "outputs": [
        {
          "output_type": "stream",
          "name": "stdout",
          "text": [
            "Epoch 1/10\n",
            "391/391 [==============================] - 52s 106ms/step - loss: 0.6451 - accuracy: 0.5586 - val_loss: 0.5003 - val_accuracy: 0.7630\n",
            "Epoch 2/10\n",
            "391/391 [==============================] - 25s 63ms/step - loss: 0.4542 - accuracy: 0.7868 - val_loss: 0.4184 - val_accuracy: 0.8125\n",
            "Epoch 3/10\n",
            "391/391 [==============================] - 23s 60ms/step - loss: 0.3770 - accuracy: 0.8336 - val_loss: 0.3710 - val_accuracy: 0.8224\n",
            "Epoch 4/10\n",
            "391/391 [==============================] - 24s 62ms/step - loss: 0.3417 - accuracy: 0.8514 - val_loss: 0.3413 - val_accuracy: 0.8479\n",
            "Epoch 5/10\n",
            "391/391 [==============================] - 25s 63ms/step - loss: 0.3235 - accuracy: 0.8618 - val_loss: 0.3347 - val_accuracy: 0.8547\n",
            "Epoch 6/10\n",
            "391/391 [==============================] - 24s 60ms/step - loss: 0.3137 - accuracy: 0.8668 - val_loss: 0.3331 - val_accuracy: 0.8594\n",
            "Epoch 7/10\n",
            "391/391 [==============================] - 25s 64ms/step - loss: 0.3060 - accuracy: 0.8707 - val_loss: 0.3225 - val_accuracy: 0.8547\n",
            "Epoch 8/10\n",
            "391/391 [==============================] - 23s 60ms/step - loss: 0.3015 - accuracy: 0.8730 - val_loss: 0.3201 - val_accuracy: 0.8599\n",
            "Epoch 9/10\n",
            "391/391 [==============================] - 25s 64ms/step - loss: 0.2984 - accuracy: 0.8730 - val_loss: 0.3221 - val_accuracy: 0.8625\n",
            "Epoch 10/10\n",
            "391/391 [==============================] - 25s 63ms/step - loss: 0.2989 - accuracy: 0.8723 - val_loss: 0.3360 - val_accuracy: 0.8536\n"
          ]
        }
      ],
      "source": [
        "history = model.fit(train_dataset, epochs=10,\n",
        "                    validation_data=test_dataset,\n",
        "                    validation_steps=30)"
      ]
    },
    {
      "cell_type": "code",
      "execution_count": null,
      "metadata": {
        "colab": {
          "base_uri": "https://localhost:8080/"
        },
        "id": "BaNbXi43YgUT",
        "outputId": "16775138-5ee5-4832-8057-6ed46dc94141"
      },
      "outputs": [
        {
          "output_type": "stream",
          "name": "stdout",
          "text": [
            "391/391 [==============================] - 12s 30ms/step - loss: 0.3303 - accuracy: 0.8542\n",
            "Test Loss: 0.3303302228450775\n",
            "Test Accuracy: 0.8541600108146667\n"
          ]
        }
      ],
      "source": [
        "test_loss, test_acc = model.evaluate(test_dataset)\n",
        "\n",
        "print('Test Loss:', test_loss)\n",
        "print('Test Accuracy:', test_acc)"
      ]
    },
    {
      "cell_type": "code",
      "execution_count": null,
      "metadata": {
        "colab": {
          "base_uri": "https://localhost:8080/",
          "height": 718
        },
        "id": "OZmwt_mzaQJk",
        "outputId": "0be86a24-842d-4053-aaa1-51c1decf9dfa"
      },
      "outputs": [
        {
          "output_type": "execute_result",
          "data": {
            "text/plain": [
              "(0.0, 0.6624803766608238)"
            ]
          },
          "metadata": {},
          "execution_count": 19
        },
        {
          "output_type": "display_data",
          "data": {
            "text/plain": [
              "<Figure size 1600x800 with 2 Axes>"
            ],
            "image/png": "[encoded data removed]"
          },
          "metadata": {}
        }
      ],
      "source": [
        "plt.figure(figsize=(16, 8))\n",
        "plt.subplot(1, 2, 1)\n",
        "plot_graphs(history, 'accuracy')\n",
        "plt.ylim(None, 1)\n",
        "plt.subplot(1, 2, 2)\n",
        "plot_graphs(history, 'loss')\n",
        "plt.ylim(0, None)"
      ]
    },
    {
      "cell_type": "markdown",
      "metadata": {
        "id": "DwSE_386uhxD"
      },
      "source": [
        "Run a prediction on a new sentence:\n",
        "\n",
        "If the prediction is >= 0.0, it is positive else it is negative."
      ]
    },
    {
      "cell_type": "code",
      "execution_count": null,
      "metadata": {
        "id": "ZXgfQSgRW6zU",
        "colab": {
          "base_uri": "https://localhost:8080/"
        },
        "outputId": "64e6dbdd-5267-46c5-915b-d50c8b040853"
      },
      "outputs": [
        {
          "output_type": "stream",
          "name": "stdout",
          "text": [
            "1/1 [==============================] - 2s 2s/step\n"
          ]
        }
      ],
      "source": [
        "sample_text = ('The movie was cool. The animation and the graphics '\n",
        "               'were out of this world. I would recommend this movie.')\n",
        "predictions = model.predict(np.array([sample_text]))"
      ]
    },
    {
      "cell_type": "markdown",
      "metadata": {
        "id": "7g1evcaRpTKm"
      },
      "source": [
        "## Stack two or more LSTM layers\n",
        "\n",
        "Keras recurrent layers have two available modes that are controlled by the `return_sequences` constructor argument:\n",
        "\n",
        "* If `False` it returns only the last output for each input sequence (a 2D tensor of shape (batch_size, output_features)). This is the default, used in the previous model.\n",
        "\n",
        "* If `True` the full sequences of successive outputs for each timestep is returned (a 3D tensor of shape `(batch_size, timesteps, output_features)`).\n",
        "\n",
        "Here is what the flow of information looks like with `return_sequences=True`:\n",
        "\n",
        "![layered_bidirectional](https://github.com/tensorflow/text/blob/master/docs/tutorials/images/layered_bidirectional.png?raw=1)"
      ]
    },
    {
      "cell_type": "markdown",
      "metadata": {
        "id": "wbSClCrG1z8l"
      },
      "source": [
        "The interesting thing about using an `RNN` with `return_sequences=True` is that the output still has 3-axes, like the input, so it can be passed to another RNN layer, like this:"
      ]
    },
    {
      "cell_type": "code",
      "execution_count": null,
      "metadata": {
        "id": "jo1jjO3vn0jo"
      },
      "outputs": [],
      "source": [
        "model = tf.keras.Sequential([\n",
        "    encoder,\n",
        "    tf.keras.layers.Embedding(len(encoder.get_vocabulary()), 64, mask_zero=True),\n",
        "    tf.keras.layers.Bidirectional(tf.keras.layers.LSTM(64,  return_sequences=True)),\n",
        "    tf.keras.layers.Bidirectional(tf.keras.layers.LSTM(32)),\n",
        "    tf.keras.layers.Dense(64, activation='relu'),\n",
        "    tf.keras.layers.Dropout(0.5),\n",
        "    tf.keras.layers.Dense(1)\n",
        "])"
      ]
    },
    {
      "cell_type": "code",
      "execution_count": null,
      "metadata": {
        "id": "hEPV5jVGp-is"
      },
      "outputs": [],
      "source": [
        "model.compile(loss=tf.keras.losses.BinaryCrossentropy(from_logits=True),\n",
        "              optimizer=tf.keras.optimizers.Adam(1e-4),\n",
        "              metrics=['accuracy'])"
      ]
    },
    {
      "cell_type": "code",
      "execution_count": null,
      "metadata": {
        "id": "LeSE-YjdqAeN",
        "colab": {
          "base_uri": "https://localhost:8080/"
        },
        "outputId": "71c14a1c-0a0e-4713-c867-dc559d496380"
      },
      "outputs": [
        {
          "output_type": "stream",
          "name": "stdout",
          "text": [
            "Epoch 1/10\n",
            "391/391 [==============================] - 77s 147ms/step - loss: 0.6475 - accuracy: 0.5609 - val_loss: 0.4901 - val_accuracy: 0.7437\n",
            "Epoch 2/10\n",
            "391/391 [==============================] - 44s 113ms/step - loss: 0.3915 - accuracy: 0.8246 - val_loss: 0.3549 - val_accuracy: 0.8370\n",
            "Epoch 3/10\n",
            "391/391 [==============================] - 45s 114ms/step - loss: 0.3391 - accuracy: 0.8532 - val_loss: 0.3771 - val_accuracy: 0.8000\n",
            "Epoch 4/10\n",
            "391/391 [==============================] - 45s 113ms/step - loss: 0.3200 - accuracy: 0.8630 - val_loss: 0.3283 - val_accuracy: 0.8484\n",
            "Epoch 5/10\n",
            "391/391 [==============================] - 44s 112ms/step - loss: 0.3120 - accuracy: 0.8660 - val_loss: 0.3491 - val_accuracy: 0.8453\n",
            "Epoch 6/10\n",
            "391/391 [==============================] - 44s 111ms/step - loss: 0.3105 - accuracy: 0.8664 - val_loss: 0.3209 - val_accuracy: 0.8542\n",
            "Epoch 7/10\n",
            "391/391 [==============================] - 45s 114ms/step - loss: 0.3049 - accuracy: 0.8685 - val_loss: 0.3149 - val_accuracy: 0.8615\n",
            "Epoch 8/10\n",
            "391/391 [==============================] - 43s 110ms/step - loss: 0.2991 - accuracy: 0.8712 - val_loss: 0.3216 - val_accuracy: 0.8604\n",
            "Epoch 9/10\n",
            "391/391 [==============================] - 43s 110ms/step - loss: 0.2986 - accuracy: 0.8713 - val_loss: 0.3285 - val_accuracy: 0.8432\n",
            "Epoch 10/10\n",
            "391/391 [==============================] - 44s 112ms/step - loss: 0.2968 - accuracy: 0.8702 - val_loss: 0.3234 - val_accuracy: 0.8609\n"
          ]
        }
      ],
      "source": [
        "history = model.fit(train_dataset, epochs=10,\n",
        "                    validation_data=test_dataset,\n",
        "                    validation_steps=30)"
      ]
    },
    {
      "cell_type": "code",
      "execution_count": null,
      "metadata": {
        "id": "_LdwilM1qPM3",
        "colab": {
          "base_uri": "https://localhost:8080/"
        },
        "outputId": "38d7138c-ed54-4668-f622-71b9fe7abbd2"
      },
      "outputs": [
        {
          "output_type": "stream",
          "name": "stdout",
          "text": [
            "391/391 [==============================] - 19s 47ms/step - loss: 0.3226 - accuracy: 0.8623\n",
            "Test Loss: 0.32261183857917786\n",
            "Test Accuracy: 0.8623200058937073\n"
          ]
        }
      ],
      "source": [
        "test_loss, test_acc = model.evaluate(test_dataset)\n",
        "\n",
        "print('Test Loss:', test_loss)\n",
        "print('Test Accuracy:', test_acc)"
      ]
    },
    {
      "cell_type": "code",
      "execution_count": null,
      "metadata": {
        "id": "ykUKnAoqbycW",
        "colab": {
          "base_uri": "https://localhost:8080/"
        },
        "outputId": "dee917e7-f751-4a0f-a632-263d563ad8ac"
      },
      "outputs": [
        {
          "output_type": "stream",
          "name": "stdout",
          "text": [
            "1/1 [==============================] - 6s 6s/step\n",
            "[[-1.9146806]]\n"
          ]
        }
      ],
      "source": [
        "# predict on a sample text without padding.\n",
        "\n",
        "sample_text = ('The movie was not good. The animation and the graphics '\n",
        "               'were terrible. I would not recommend this movie.')\n",
        "predictions = model.predict(np.array([sample_text]))\n",
        "print(predictions)"
      ]
    },
    {
      "cell_type": "code",
      "execution_count": null,
      "metadata": {
        "id": "Epk5qSjkCHQD",
        "colab": {
          "base_uri": "https://localhost:8080/"
        },
        "outputId": "8c11d145-ba37-47db-ac5d-06686a6b669e"
      },
      "outputs": [
        {
          "output_type": "stream",
          "name": "stdout",
          "text": [
            "1/1 [==============================] - 0s 32ms/step\n",
            "[[1.8050212]]\n"
          ]
        }
      ],
      "source": [
        "# predict on a sample text without padding.\n",
        "\n",
        "sample_text = ('The movie was exemplary!. The animation and the graphics were awesome.. I will highly recommend this movie.')\n",
        "predictions = model.predict(np.array([sample_text]))\n",
        "print(predictions)"
      ]
    },
    {
      "cell_type": "code",
      "execution_count": null,
      "metadata": {
        "id": "_YYub0EDtwCu",
        "colab": {
          "base_uri": "https://localhost:8080/",
          "height": 542
        },
        "outputId": "4915897e-4089-4e37-f7d9-7da3e3eaf644"
      },
      "outputs": [
        {
          "output_type": "display_data",
          "data": {
            "text/plain": [
              "<Figure size 1600x600 with 2 Axes>"
            ],
            "image/png": "[encoded data removed]"
          },
          "metadata": {}
        }
      ],
      "source": [
        "plt.figure(figsize=(16, 6))\n",
        "plt.subplot(1, 2, 1)\n",
        "plot_graphs(history, 'accuracy')\n",
        "plt.subplot(1, 2, 2)\n",
        "plot_graphs(history, 'loss')"
      ]
    }
  ],
  "metadata": {
    "accelerator": "GPU",
    "colab": {
      "provenance": []
    },
    "kernelspec": {
      "display_name": "Python 3",
      "name": "python3"
    }
  },
  "nbformat": 4,
  "nbformat_minor": 0
}